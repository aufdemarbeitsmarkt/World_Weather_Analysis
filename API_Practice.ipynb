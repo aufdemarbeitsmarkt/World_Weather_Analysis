{
 "cells": [
  {
   "cell_type": "code",
   "execution_count": 18,
   "id": "1cc3ff61-9788-4820-b4a0-a5ea0ab43150",
   "metadata": {},
   "outputs": [],
   "source": [
    "from datetime import datetime\n",
    "import requests"
   ]
  },
  {
   "cell_type": "code",
   "execution_count": 19,
   "id": "0abfef40-d1eb-4486-a203-3579370d3042",
   "metadata": {},
   "outputs": [],
   "source": [
    "from config import weather_api_key"
   ]
  },
  {
   "cell_type": "code",
   "execution_count": 20,
   "id": "38efaac7-b480-4d05-9646-6ee2b10ee8fe",
   "metadata": {},
   "outputs": [],
   "source": [
    "# starting url for Weather Map API call\n",
    "url = 'http://api.openweathermap.org/data/2.5/weather?units=Imperial&APPID=' + weather_api_key\n",
    "\n",
    "# create an endpoint url for a city\n",
    "city_url = url + '&q=' + 'Boston'"
   ]
  },
  {
   "cell_type": "code",
   "execution_count": 21,
   "id": "1242512e-d774-4172-b7f6-a589a582451d",
   "metadata": {},
   "outputs": [
    {
     "name": "stdout",
     "output_type": "stream",
     "text": [
      "City weather found.\n",
      "\n",
      "{'coord': {'lon': -71.0598, 'lat': 42.3584}, 'weather': [{'id': 803, 'main': 'Clouds', 'description': 'broken clouds', 'icon': '04d'}], 'base': 'stations', 'main': {'temp': 50.04, 'feels_like': 47.43, 'temp_min': 45.95, 'temp_max': 53.56, 'pressure': 1017, 'humidity': 57}, 'visibility': 10000, 'wind': {'speed': 25.32, 'deg': 50, 'gust': 32.21}, 'clouds': {'all': 75}, 'dt': 1651944082, 'sys': {'type': 2, 'id': 2013408, 'country': 'US', 'sunrise': 1651915903, 'sunset': 1651967389}, 'timezone': -14400, 'id': 4930956, 'name': 'Boston', 'cod': 200}\n"
     ]
    }
   ],
   "source": [
    "# make a 'get' request for the city weather\n",
    "city_weather = requests.get(city_url)\n",
    "boston_data = city_weather.json()\n",
    "\n",
    "if city_weather.status_code == 200:\n",
    "    print('City weather found.\\n')\n",
    "    print(boston_data)\n",
    "else:\n",
    "    print('City weather NOT found.')"
   ]
  },
  {
   "cell_type": "code",
   "execution_count": 22,
   "id": "f1d9e2b2-1779-4589-9445-e7cb7616493b",
   "metadata": {},
   "outputs": [
    {
     "name": "stdout",
     "output_type": "stream",
     "text": [
      "42.3584 -71.0598 53.56 57 75 25.32\n"
     ]
    }
   ],
   "source": [
    "lat = boston_data['coord']['lat']\n",
    "lng = boston_data['coord']['lon']\n",
    "max_temp = boston_data['main']['temp_max']\n",
    "humidity = boston_data['main']['humidity']\n",
    "clouds = boston_data['clouds']['all']\n",
    "wind = boston_data['wind']['speed']\n",
    "print(lat, lng, max_temp, humidity, clouds, wind)"
   ]
  },
  {
   "cell_type": "code",
   "execution_count": 24,
   "id": "0f0be2e4-b22b-4304-bf5a-d38956bbf5af",
   "metadata": {},
   "outputs": [
    {
     "data": {
      "text/plain": [
       "'2022-05-07 17:21:22'"
      ]
     },
     "execution_count": 24,
     "metadata": {},
     "output_type": "execute_result"
    }
   ],
   "source": [
    "date = boston_data['dt']\n",
    "datetime.utcfromtimestamp(date).strftime('%Y-%m-%d %H:%M:%S')"
   ]
  }
 ],
 "metadata": {
  "kernelspec": {
   "display_name": "PythonData",
   "language": "python",
   "name": "pythondata"
  },
  "language_info": {
   "codemirror_mode": {
    "name": "ipython",
    "version": 3
   },
   "file_extension": ".py",
   "mimetype": "text/x-python",
   "name": "python",
   "nbconvert_exporter": "python",
   "pygments_lexer": "ipython3",
   "version": "3.7.13"
  }
 },
 "nbformat": 4,
 "nbformat_minor": 5
}
