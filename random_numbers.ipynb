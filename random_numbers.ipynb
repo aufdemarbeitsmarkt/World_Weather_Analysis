{
 "cells": [
  {
   "cell_type": "code",
   "execution_count": 27,
   "id": "560ad881-2a64-4a9f-b0e5-2e3a21227806",
   "metadata": {},
   "outputs": [],
   "source": [
    "import numpy as np \n",
    "import random\n",
    "import timeit"
   ]
  },
  {
   "cell_type": "code",
   "execution_count": 28,
   "id": "abd851ca-2031-4e7c-bc56-b9a49f6f2479",
   "metadata": {},
   "outputs": [],
   "source": [
    "%timeit"
   ]
  },
  {
   "cell_type": "code",
   "execution_count": 11,
   "id": "01556a6d-1ff7-4385-9fa4-26a24ed9abd4",
   "metadata": {},
   "outputs": [
    {
     "data": {
      "text/plain": [
       "-77"
      ]
     },
     "execution_count": 11,
     "metadata": {},
     "output_type": "execute_result"
    }
   ],
   "source": [
    "# test `randint()` function\n",
    "random.randint(-90, 90)"
   ]
  },
  {
   "cell_type": "code",
   "execution_count": 12,
   "id": "9fcab295-7351-463c-bac1-228aa5d6c0fe",
   "metadata": {},
   "outputs": [
    {
     "data": {
      "text/plain": [
       "0.7857164001853872"
      ]
     },
     "execution_count": 12,
     "metadata": {},
     "output_type": "execute_result"
    }
   ],
   "source": [
    "# test `random()` function\n",
    "random.random()"
   ]
  },
  {
   "cell_type": "code",
   "execution_count": 14,
   "id": "1c09b039-3e23-4ab6-8a34-30215823db04",
   "metadata": {},
   "outputs": [
    {
     "data": {
      "text/plain": [
       "-12.515943618165142"
      ]
     },
     "execution_count": 14,
     "metadata": {},
     "output_type": "execute_result"
    }
   ],
   "source": [
    "random_number = random.randint(-90, 89) + random.random()\n",
    "random_number"
   ]
  },
  {
   "cell_type": "code",
   "execution_count": 17,
   "id": "bfcfff7d-309f-4380-af91-7a3950265aac",
   "metadata": {},
   "outputs": [
    {
     "data": {
      "text/plain": [
       "[6.077956740755297,\n",
       " -84.094448892454,\n",
       " -78.49380332617116,\n",
       " -48.52690554901017,\n",
       " 31.211527245871974,\n",
       " 37.51446536356022,\n",
       " -13.503891698314145,\n",
       " 62.12465731864916,\n",
       " -22.923135947273927,\n",
       " 37.41776461324565]"
      ]
     },
     "execution_count": 17,
     "metadata": {},
     "output_type": "execute_result"
    }
   ],
   "source": [
    "# using the `randint()` and `random()` functions, \n",
    "# we can write an algorithm that will generate latitudes \n",
    "# between -90 and 89\n",
    "x = 1\n",
    "latitudes = []\n",
    "while x < 11:\n",
    "    random_lat = random.randint(-90, 89) + random.random()\n",
    "    latitudes.append(random_lat)\n",
    "    x += 1 \n",
    "latitudes    "
   ]
  },
  {
   "cell_type": "code",
   "execution_count": 19,
   "id": "f57f0c85-ee29-4b98-82a5-8b87773161f1",
   "metadata": {},
   "outputs": [
    {
     "data": {
      "text/plain": [
       "-75"
      ]
     },
     "execution_count": 19,
     "metadata": {},
     "output_type": "execute_result"
    }
   ],
   "source": [
    "# test the `randrange()` function\n",
    "random.randrange(-90, 90, step=3)"
   ]
  },
  {
   "cell_type": "code",
   "execution_count": 20,
   "id": "ad564de6-2117-4034-903e-e673a2e58b51",
   "metadata": {},
   "outputs": [
    {
     "data": {
      "text/plain": [
       "-79.20100171623073"
      ]
     },
     "execution_count": 20,
     "metadata": {},
     "output_type": "execute_result"
    }
   ],
   "source": [
    "# test the `uniform()` function\n",
    "random.uniform(-90, 90)"
   ]
  },
  {
   "cell_type": "code",
   "execution_count": 29,
   "id": "1d23317f-3317-403a-9bdb-880d19ee4b7a",
   "metadata": {},
   "outputs": [
    {
     "name": "stdout",
     "output_type": "stream",
     "text": [
      "4.28 µs ± 105 ns per loop (mean ± std. dev. of 7 runs, 100000 loops each)\n"
     ]
    }
   ],
   "source": [
    "# test the `np.random.random()` function\n",
    "%timeit np.random.uniform(-90.000, 90.000, size=50)"
   ]
  },
  {
   "cell_type": "code",
   "execution_count": 32,
   "id": "32e39a5d-acd5-4fe1-8d90-96393fb02943",
   "metadata": {},
   "outputs": [
    {
     "name": "stdout",
     "output_type": "stream",
     "text": [
      "2.57 ms ± 43.8 µs per loop (mean ± std. dev. of 7 runs, 100 loops each)\n"
     ]
    }
   ],
   "source": [
    "def latitudes(size):\n",
    "    latitudes = []\n",
    "    x = 0 \n",
    "    while x < size:\n",
    "        random_lat = random.randint(-90, 90) + random.random()\n",
    "        latitudes.append(random_lat)\n",
    "        x += 1\n",
    "    return latitudes\n",
    "\n",
    "# call the function with 1500 \n",
    "%timeit latitudes(1500)"
   ]
  },
  {
   "cell_type": "code",
   "execution_count": null,
   "id": "a769cb24-8025-4a43-a032-3863e8fa1943",
   "metadata": {},
   "outputs": [],
   "source": []
  }
 ],
 "metadata": {
  "kernelspec": {
   "display_name": "PythonData",
   "language": "python",
   "name": "pythondata"
  },
  "language_info": {
   "codemirror_mode": {
    "name": "ipython",
    "version": 3
   },
   "file_extension": ".py",
   "mimetype": "text/x-python",
   "name": "python",
   "nbconvert_exporter": "python",
   "pygments_lexer": "ipython3",
   "version": "3.7.13"
  }
 },
 "nbformat": 4,
 "nbformat_minor": 5
}
