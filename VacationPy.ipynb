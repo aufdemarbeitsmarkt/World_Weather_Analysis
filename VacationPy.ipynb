{
 "cells": [
  {
   "cell_type": "code",
   "execution_count": 1,
   "id": "0de88bef",
   "metadata": {},
   "outputs": [],
   "source": [
    "import gmaps\n",
    "import pandas as pd \n",
    "import requests\n",
    "\n",
    "from config import g_key"
   ]
  },
  {
   "cell_type": "code",
   "execution_count": 2,
   "id": "3f468919",
   "metadata": {},
   "outputs": [
    {
     "data": {
      "text/html": [
       "<div>\n",
       "<style scoped>\n",
       "    .dataframe tbody tr th:only-of-type {\n",
       "        vertical-align: middle;\n",
       "    }\n",
       "\n",
       "    .dataframe tbody tr th {\n",
       "        vertical-align: top;\n",
       "    }\n",
       "\n",
       "    .dataframe thead th {\n",
       "        text-align: right;\n",
       "    }\n",
       "</style>\n",
       "<table border=\"1\" class=\"dataframe\">\n",
       "  <thead>\n",
       "    <tr style=\"text-align: right;\">\n",
       "      <th></th>\n",
       "      <th>City_ID</th>\n",
       "      <th>City</th>\n",
       "      <th>Country</th>\n",
       "      <th>Date</th>\n",
       "      <th>Lat</th>\n",
       "      <th>Lng</th>\n",
       "      <th>Max Temp</th>\n",
       "      <th>Humidity</th>\n",
       "      <th>Cloudiness</th>\n",
       "      <th>Wind Speed</th>\n",
       "    </tr>\n",
       "  </thead>\n",
       "  <tbody>\n",
       "    <tr>\n",
       "      <th>0</th>\n",
       "      <td>0</td>\n",
       "      <td>Saskylakh</td>\n",
       "      <td>RU</td>\n",
       "      <td>2022-05-07 21:35:50</td>\n",
       "      <td>71.9167</td>\n",
       "      <td>114.0833</td>\n",
       "      <td>5.77</td>\n",
       "      <td>94</td>\n",
       "      <td>18</td>\n",
       "      <td>9.35</td>\n",
       "    </tr>\n",
       "    <tr>\n",
       "      <th>1</th>\n",
       "      <td>1</td>\n",
       "      <td>Vila Franca Do Campo</td>\n",
       "      <td>PT</td>\n",
       "      <td>2022-05-07 21:35:51</td>\n",
       "      <td>37.7167</td>\n",
       "      <td>-25.4333</td>\n",
       "      <td>68.20</td>\n",
       "      <td>92</td>\n",
       "      <td>96</td>\n",
       "      <td>1.54</td>\n",
       "    </tr>\n",
       "    <tr>\n",
       "      <th>2</th>\n",
       "      <td>2</td>\n",
       "      <td>Nikolskoye</td>\n",
       "      <td>RU</td>\n",
       "      <td>2022-05-07 21:35:51</td>\n",
       "      <td>59.7035</td>\n",
       "      <td>30.7861</td>\n",
       "      <td>51.69</td>\n",
       "      <td>94</td>\n",
       "      <td>100</td>\n",
       "      <td>6.51</td>\n",
       "    </tr>\n",
       "    <tr>\n",
       "      <th>3</th>\n",
       "      <td>3</td>\n",
       "      <td>Palmerston</td>\n",
       "      <td>AU</td>\n",
       "      <td>2022-05-07 21:35:52</td>\n",
       "      <td>-12.4860</td>\n",
       "      <td>130.9833</td>\n",
       "      <td>71.58</td>\n",
       "      <td>55</td>\n",
       "      <td>0</td>\n",
       "      <td>9.22</td>\n",
       "    </tr>\n",
       "    <tr>\n",
       "      <th>4</th>\n",
       "      <td>4</td>\n",
       "      <td>Tasiilaq</td>\n",
       "      <td>GL</td>\n",
       "      <td>2022-05-07 21:34:49</td>\n",
       "      <td>65.6145</td>\n",
       "      <td>-37.6368</td>\n",
       "      <td>32.16</td>\n",
       "      <td>76</td>\n",
       "      <td>99</td>\n",
       "      <td>5.86</td>\n",
       "    </tr>\n",
       "  </tbody>\n",
       "</table>\n",
       "</div>"
      ],
      "text/plain": [
       "   City_ID                  City Country                 Date      Lat  \\\n",
       "0        0             Saskylakh      RU  2022-05-07 21:35:50  71.9167   \n",
       "1        1  Vila Franca Do Campo      PT  2022-05-07 21:35:51  37.7167   \n",
       "2        2            Nikolskoye      RU  2022-05-07 21:35:51  59.7035   \n",
       "3        3            Palmerston      AU  2022-05-07 21:35:52 -12.4860   \n",
       "4        4              Tasiilaq      GL  2022-05-07 21:34:49  65.6145   \n",
       "\n",
       "        Lng  Max Temp  Humidity  Cloudiness  Wind Speed  \n",
       "0  114.0833      5.77        94          18        9.35  \n",
       "1  -25.4333     68.20        92          96        1.54  \n",
       "2   30.7861     51.69        94         100        6.51  \n",
       "3  130.9833     71.58        55           0        9.22  \n",
       "4  -37.6368     32.16        76          99        5.86  "
      ]
     },
     "execution_count": 2,
     "metadata": {},
     "output_type": "execute_result"
    }
   ],
   "source": [
    "# store the csv data we already saved as a DataFrame\n",
    "city_data_df = pd.read_csv('weather_data/cities.csv')\n",
    "city_data_df.head()"
   ]
  },
  {
   "cell_type": "code",
   "execution_count": 11,
   "id": "e2c42500",
   "metadata": {},
   "outputs": [
    {
     "data": {
      "text/plain": [
       "City_ID         int64\n",
       "City           object\n",
       "Country        object\n",
       "Date           object\n",
       "Lat           float64\n",
       "Lng           float64\n",
       "Max Temp      float64\n",
       "Humidity        int64\n",
       "Cloudiness      int64\n",
       "Wind Speed    float64\n",
       "dtype: object"
      ]
     },
     "execution_count": 11,
     "metadata": {},
     "output_type": "execute_result"
    }
   ],
   "source": [
    "# get the data types\n",
    "city_data_df.dtypes"
   ]
  },
  {
   "cell_type": "code",
   "execution_count": 12,
   "id": "40f96e4f",
   "metadata": {},
   "outputs": [],
   "source": [
    "# create a locations variable to be used in multiple heatmaps\n",
    "locations = city_data_df[['Lat', 'Lng']]"
   ]
  },
  {
   "cell_type": "markdown",
   "id": "fc329432",
   "metadata": {},
   "source": [
    "### Create a Maximum Temperature Heatmap"
   ]
  },
  {
   "cell_type": "code",
   "execution_count": 13,
   "id": "2db48b21",
   "metadata": {},
   "outputs": [],
   "source": [
    "# configure gmaps to use your Google API Key\n",
    "gmaps.configure(api_key=g_key)"
   ]
  },
  {
   "cell_type": "code",
   "execution_count": 14,
   "id": "a1bfa64e",
   "metadata": {},
   "outputs": [
    {
     "data": {
      "application/vnd.jupyter.widget-view+json": {
       "model_id": "0c68beb1a7a74ebea6f1f6fb65040c8b",
       "version_major": 2,
       "version_minor": 0
      },
      "text/plain": [
       "Figure(layout=FigureLayout(height='420px'))"
      ]
     },
     "metadata": {},
     "output_type": "display_data"
    }
   ],
   "source": [
    "# heatmap of temperature\n",
    "# get the maximum temperature column; cover an InvalidWeightException if we've got a negative temperature\n",
    "max_temps= city_data_df['Max Temp']\n",
    "temps = [max(t, 0) for t in max_temps]\n",
    "\n",
    "# assign the figure variable to the gmaps.figure() attribute; adjust zoom, intensity, and point radius\n",
    "fig = gmaps.figure(center=(30.0, 31.0), zoom_level=1.5)\n",
    "\n",
    "# assign the heatmap_layer variable to the heatmap_layer attribute and add i nthe locations\n",
    "heat_layer = gmaps.heatmap_layer(locations, weights=temps)\n",
    "\n",
    "# add the heatmap_layer\n",
    "fig.add_layer(heat_layer)\n",
    "# call the figure to plot the data\n",
    "fig"
   ]
  },
  {
   "cell_type": "markdown",
   "id": "6f678bc5",
   "metadata": {},
   "source": [
    "### Create a Percent Humidity Heatmap"
   ]
  },
  {
   "cell_type": "code",
   "execution_count": 16,
   "id": "e155aea8",
   "metadata": {},
   "outputs": [
    {
     "data": {
      "application/vnd.jupyter.widget-view+json": {
       "model_id": "4c2d151d0ab146ccab4e4d127d88e0f1",
       "version_major": 2,
       "version_minor": 0
      },
      "text/plain": [
       "Figure(layout=FigureLayout(height='420px'))"
      ]
     },
     "metadata": {},
     "output_type": "display_data"
    }
   ],
   "source": [
    "# heatmap of percent humidity \n",
    "humidity = city_data_df['Humidity']\n",
    "fig = gmaps.figure(center=(30.0, 31.0), zoom_level=1.5)\n",
    "heat_layer = gmaps.heatmap_layer(\n",
    "    locations, \n",
    "    weights=humidity, \n",
    "    dissipating=False, \n",
    "    max_intensity=300, \n",
    "    point_radius=4\n",
    ")\n",
    "\n",
    "fig.add_layer(heat_layer)\n",
    "fig"
   ]
  },
  {
   "cell_type": "markdown",
   "id": "d64c77a8",
   "metadata": {},
   "source": [
    "### Create a Percent Cloudiness Heatmap"
   ]
  },
  {
   "cell_type": "code",
   "execution_count": 20,
   "id": "06ddd942",
   "metadata": {},
   "outputs": [
    {
     "data": {
      "application/vnd.jupyter.widget-view+json": {
       "model_id": "5612609398c248ca8d645865ba294392",
       "version_major": 2,
       "version_minor": 0
      },
      "text/plain": [
       "Figure(layout=FigureLayout(height='420px'))"
      ]
     },
     "metadata": {},
     "output_type": "display_data"
    }
   ],
   "source": [
    "# heatmap of percent cloudiness \n",
    "cloudiness = city_data_df['Cloudiness']\n",
    "fig = gmaps.figure(center=(30.0, 31.0), zoom_level=1.5)\n",
    "heat_layer = gmaps.heatmap_layer(\n",
    "    locations, \n",
    "    weights=cloudiness, \n",
    "    dissipating=False, \n",
    "    max_intensity=300, \n",
    "    point_radius=4\n",
    ")\n",
    "\n",
    "fig.add_layer(heat_layer)\n",
    "fig"
   ]
  },
  {
   "cell_type": "markdown",
   "id": "6e2e575f",
   "metadata": {},
   "source": [
    "### Create a Wind Speed Heatmap"
   ]
  },
  {
   "cell_type": "code",
   "execution_count": 23,
   "id": "530fea2d",
   "metadata": {},
   "outputs": [
    {
     "data": {
      "application/vnd.jupyter.widget-view+json": {
       "model_id": "3f45506e56c64d8a8b5f896d1b6df159",
       "version_major": 2,
       "version_minor": 0
      },
      "text/plain": [
       "Figure(layout=FigureLayout(height='420px'))"
      ]
     },
     "metadata": {},
     "output_type": "display_data"
    }
   ],
   "source": [
    "# heatmap of wind speed \n",
    "wind_speed = city_data_df['Wind Speed']\n",
    "fig = gmaps.figure(center=(30.0, 31.0), zoom_level=1.5)\n",
    "heat_layer = gmaps.heatmap_layer(\n",
    "    locations, \n",
    "    weights=wind_speed, \n",
    "    dissipating=False, \n",
    "    max_intensity=300, \n",
    "    point_radius=4\n",
    ")\n",
    "\n",
    "fig.add_layer(heat_layer)\n",
    "fig"
   ]
  },
  {
   "cell_type": "markdown",
   "id": "91fc1a12",
   "metadata": {},
   "source": [
    "### Get Vacation Criteria"
   ]
  },
  {
   "cell_type": "code",
   "execution_count": 26,
   "id": "d28b33a1",
   "metadata": {},
   "outputs": [
    {
     "name": "stdout",
     "output_type": "stream",
     "text": [
      "What is the minimum temperature you'd like for your trip? 75\n",
      "What is the maximum temperature you'd like for your trip? 90\n"
     ]
    }
   ],
   "source": [
    "# ask the user to add a minimum and maximum temperature\n",
    "min_temp = float(input('What is the minimum temperature you\\'d like for your trip? '))\n",
    "max_temp = float(input('What is the maximum temperature you\\'d like for your trip? '))"
   ]
  },
  {
   "cell_type": "code",
   "execution_count": 36,
   "id": "88a72e5f",
   "metadata": {},
   "outputs": [],
   "source": [
    "# filter the dataset to find cities that fit the above temperature criteria\n",
    "preferred_cities_df = city_data_df.loc[\n",
    "    (city_data_df['Max Temp'] <= max_temp) \n",
    "    & (city_data_df['Max Temp'] >= min_temp)\n",
    "]\n",
    "# drop null data, if it exists\n",
    "preferred_cities_df = preferred_cities_df.dropna()"
   ]
  },
  {
   "cell_type": "code",
   "execution_count": null,
   "id": "a9d25409",
   "metadata": {},
   "outputs": [],
   "source": []
  }
 ],
 "metadata": {
  "kernelspec": {
   "display_name": "PythonData",
   "language": "python",
   "name": "pythondata"
  },
  "language_info": {
   "codemirror_mode": {
    "name": "ipython",
    "version": 3
   },
   "file_extension": ".py",
   "mimetype": "text/x-python",
   "name": "python",
   "nbconvert_exporter": "python",
   "pygments_lexer": "ipython3",
   "version": "3.7.13"
  }
 },
 "nbformat": 4,
 "nbformat_minor": 5
}
